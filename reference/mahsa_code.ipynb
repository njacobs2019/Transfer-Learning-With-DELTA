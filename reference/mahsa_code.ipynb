{
 "cells": [
  {
   "cell_type": "code",
   "execution_count": 1,
   "metadata": {
    "executionInfo": {
     "elapsed": 3105,
     "status": "ok",
     "timestamp": 1680121798987,
     "user": {
      "displayName": "Mahsa Mozafarinia",
      "userId": "15056223764185142880"
     },
     "user_tz": 240
    },
    "id": "AjytVwSQp3g9",
    "tags": []
   },
   "outputs": [
    {
     "name": "stderr",
     "output_type": "stream",
     "text": [
      "/home/ubuntu/.local/lib/python3.8/site-packages/pandas/core/computation/expressions.py:20: UserWarning: Pandas requires version '2.7.3' or newer of 'numexpr' (version '2.7.1' currently installed).\n",
      "  from pandas.core.computation.check import NUMEXPR_INSTALLED\n"
     ]
    }
   ],
   "source": [
    "import torch\n",
    "import sys\n",
    "from torch import nn\n",
    "import torch.optim as optim\n",
    "from torch.utils.data import DataLoader\n",
    "import torch.nn.functional as F\n",
    "from torchvision import datasets, transforms,models\n",
    "from torchvision.models import resnet50, ResNet50_Weights, vgg11, vgg16,\\\n",
    "    alexnet, VGG11_Weights, VGG16_Weights, AlexNet_Weights\n",
    "import time\n",
    "import os\n",
    "import copy\n",
    "from torch.utils.data import sampler\n",
    "#from utils import progress_bar"
   ]
  },
  {
   "cell_type": "code",
   "execution_count": null,
   "metadata": {},
   "outputs": [],
   "source": []
  },
  {
   "cell_type": "code",
   "execution_count": 2,
   "metadata": {
    "tags": []
   },
   "outputs": [],
   "source": [
    "path=os.getcwd()"
   ]
  },
  {
   "cell_type": "code",
   "execution_count": 3,
   "metadata": {
    "executionInfo": {
     "elapsed": 26,
     "status": "ok",
     "timestamp": 1680121798992,
     "user": {
      "displayName": "Mahsa Mozafarinia",
      "userId": "15056223764185142880"
     },
     "user_tz": 240
    },
    "id": "vaJ0unCrp_LL",
    "tags": []
   },
   "outputs": [],
   "source": [
    "import logging\n",
    "# from EDGE_4_4_1 import EDGE\n",
    "# from matplotlib.ticker import MaxNLocator\n",
    "# plt.style.use('ggplot')\n",
    "log = logging.getLogger(\"sampleLogger\")"
   ]
  },
  {
   "cell_type": "code",
   "execution_count": 4,
   "metadata": {
    "executionInfo": {
     "elapsed": 1278,
     "status": "ok",
     "timestamp": 1680122081473,
     "user": {
      "displayName": "Mahsa Mozafarinia",
      "userId": "15056223764185142880"
     },
     "user_tz": 240
    },
    "id": "IXdBpE8zyNb2",
    "tags": []
   },
   "outputs": [],
   "source": [
    "device = torch.device(\"cuda\" if torch.cuda.is_available() else \"cpu\")"
   ]
  },
  {
   "cell_type": "code",
   "execution_count": 5,
   "metadata": {
    "executionInfo": {
     "elapsed": 278,
     "status": "ok",
     "timestamp": 1680122085766,
     "user": {
      "displayName": "Mahsa Mozafarinia",
      "userId": "15056223764185142880"
     },
     "user_tz": 240
    },
    "id": "pXd-a6wTqCat",
    "tags": []
   },
   "outputs": [],
   "source": [
    "class Network():\n",
    "  def __init__(self, device, arch, pretrained=False):\n",
    "        \"docstring\"\n",
    "        self.preprocess = None\n",
    "        self.model = None\n",
    "        self.arch = arch\n",
    "        self.pretrained = pretrained\n",
    "        self.device = device\n",
    "  def set_model(self):\n",
    "        if self.arch == \"vgg11\":\n",
    "            if self.pretrained:\n",
    "                weights = VGG11_Weights.IMAGENET1K_V1\n",
    "                self.preprocess = weights.transforms()\n",
    "                self.model = vgg11(weights=weights).to(self.device)\n",
    "                self.model.eval()\n",
    "            else:\n",
    "                self.model = vgg11().to(self.device)\n",
    "        elif self.arch == \"vgg16\":\n",
    "            if self.pretrained:\n",
    "                weights = VGG16_Weights.IMAGENET1K_V1\n",
    "                self.preprocess = weights.transforms()\n",
    "                self.model = vgg16(weights=weights).to(self.device)\n",
    "                self.model.eval()\n",
    "            else:\n",
    "                self.model = vgg16().to(self.device)\n",
    "        elif self.arch == \"resnet\":\n",
    "            if self.pretrained:\n",
    "                weights = ResNet50_Weights.DEFAULT\n",
    "                self.preprocess = weights.transforms()\n",
    "                self.model = resnet50(weights=weights).to(self.device)\n",
    "                self.model.eval()\n",
    "            else:\n",
    "                self.model = resnet50().to(self.device)\n",
    "        elif self.arch == \"alexnet\":\n",
    "            if self.pretrained:\n",
    "                weights = AlexNet_Weights.IMAGENET1K_V1\n",
    "                self.preprocess = weights.transforms()\n",
    "                self.model = alexnet(weights=weights).to(self.device)\n",
    "                self.model.eval()\n",
    "            else:\n",
    "                self.model = alexnet().to(self.device)\n",
    "        else:\n",
    "            sys.exit(\"Wrong architecture\")\n",
    "        return self.model\n",
    "  def trained_enough(self, accuracy, dataloader, loss_fn, optimizer, epochs, device):   # I think it is not used in this code.\n",
    "        i = 0\n",
    "        while accuracy < .20:\n",
    "            accuracy, _ = train(self.model, dataloader, loss_fn, optimizer,\n",
    "                                epochs, device)\n",
    "            log.debug(f\"{i} epoch extra training, accuracy: {100 * accuracy}\")\n",
    "            i += 1"
   ]
  },
  {
   "cell_type": "code",
   "execution_count": 6,
   "metadata": {
    "tags": []
   },
   "outputs": [],
   "source": [
    "batch_size=128"
   ]
  },
  {
   "cell_type": "markdown",
   "metadata": {
    "executionInfo": {
     "elapsed": 1559,
     "status": "ok",
     "timestamp": 1680122362414,
     "user": {
      "displayName": "Mahsa Mozafarinia",
      "userId": "15056223764185142880"
     },
     "user_tz": 240
    },
    "id": "6G7cZh6VjbaE",
    "tags": []
   },
   "source": [
    "network = Network(device,\"resnet\", True)\n",
    "model= network.set_model()\n",
    "model.conv1= nn.Conv2d(3, 64, kernel_size=(3, 3), stride=(1, 1), padding=(1, 1), bias=False)\n",
    "model.maxpool = nn.Identity()\n",
    "model.fc=nn.Linear(2048, 10)\n",
    "model=model.to(device)\n",
    "batch_size=128"
   ]
  },
  {
   "cell_type": "markdown",
   "metadata": {
    "jupyter": {
     "outputs_hidden": true
    },
    "tags": []
   },
   "source": [
    "for name,module in model.named_modules():\n",
    "    print(name,module,'\\n_______________\\n')"
   ]
  },
  {
   "cell_type": "markdown",
   "metadata": {
    "id": "Y2PDA9jjxtUO"
   },
   "source": [
    "# Loading the Data"
   ]
  },
  {
   "cell_type": "code",
   "execution_count": 7,
   "metadata": {
    "tags": []
   },
   "outputs": [
    {
     "name": "stdout",
     "output_type": "stream",
     "text": [
      "==> Preparing data..\n",
      "Files already downloaded and verified\n",
      "Files already downloaded and verified\n"
     ]
    }
   ],
   "source": [
    "# Data\n",
    "print('==> Preparing data..')\n",
    "transform_train = transforms.Compose([\n",
    "    transforms.RandomResizedCrop(224),  #first crop the image randomly and then resize it.\n",
    "    transforms.RandomHorizontalFlip(),\n",
    "    transforms.ToTensor(),\n",
    "    transforms.Normalize([0.485, 0.456, 0.406], [0.229, 0.224, 0.225]),\n",
    "#(0.4914, 0.4822, 0.4465), (0.2023, 0.1994, 0.2010)\n",
    "])\n",
    "\n",
    "transform_test = transforms.Compose([\n",
    "    transforms.Resize(224),\n",
    "    transforms.ToTensor(),\n",
    "    transforms.Normalize((0.4914, 0.4822, 0.4465), (0.2023, 0.1994, 0.2010)),\n",
    "])\n",
    "\n",
    "trainset = datasets.CIFAR10(\n",
    "    root='./data', train=True, download=True, transform=transform_train)\n",
    "trainloader = torch.utils.data.DataLoader(\n",
    "    trainset, batch_size=128, shuffle=True, num_workers=2)\n",
    "\n",
    "testset = datasets.CIFAR10(\n",
    "    root='./data', train=False, download=True, transform=transform_test)\n",
    "testloader = torch.utils.data.DataLoader(\n",
    "    testset, batch_size=100, shuffle=False, num_workers=2)\n",
    "\n",
    "classes = ('plane', 'car', 'bird', 'cat', 'deer',\n",
    "           'dog', 'frog', 'horse', 'ship', 'truck')\n"
   ]
  },
  {
   "cell_type": "markdown",
   "metadata": {
    "tags": []
   },
   "source": [
    "# Fine tunning model for renet 50 on Cifar 10."
   ]
  },
  {
   "cell_type": "markdown",
   "metadata": {
    "tags": []
   },
   "source": [
    "best_acc = 0  # best test accuracy\n",
    "network = Network(device,\"resnet\", False)\n",
    "model= network.set_model()\n",
    "#model.conv1= nn.Conv2d(3, 64, kernel_size=(3, 3), stride=(1, 1), padding=(1, 1), bias=False)\n",
    "#model.maxpool = nn.Identity()\n",
    "model.fc=nn.Linear(2048, 10)\n",
    "model=model.to(device)\n",
    "#criterion = nn.CrossEntropyLoss()\n",
    "#optimizer = optim.SGD(model.parameters(), lr=0.1,\n",
    "                     # momentum=0.9, weight_decay=5e-4)\n",
    "#scheduler = torch.optim.lr_scheduler.CosineAnnealingLR(optimizer, T_max=40)"
   ]
  },
  {
   "cell_type": "code",
   "execution_count": 8,
   "metadata": {
    "collapsed": true,
    "jupyter": {
     "outputs_hidden": true
    },
    "tags": []
   },
   "outputs": [
    {
     "name": "stdout",
     "output_type": "stream",
     "text": [
      "\n",
      "Epoch: 0\n",
      "\n",
      "Epoch: 1\n",
      "\n",
      "Epoch: 2\n",
      "\n",
      "Epoch: 3\n"
     ]
    },
    {
     "ename": "KeyboardInterrupt",
     "evalue": "",
     "output_type": "error",
     "traceback": [
      "\u001b[0;31m---------------------------------------------------------------------------\u001b[0m",
      "\u001b[0;31mKeyboardInterrupt\u001b[0m                         Traceback (most recent call last)",
      "\u001b[0;32m<ipython-input-8-b67400bc8f58>\u001b[0m in \u001b[0;36m<module>\u001b[0;34m\u001b[0m\n\u001b[1;32m     34\u001b[0m             \u001b[0moptimizer\u001b[0m\u001b[0;34m.\u001b[0m\u001b[0mstep\u001b[0m\u001b[0;34m(\u001b[0m\u001b[0;34m)\u001b[0m\u001b[0;34m\u001b[0m\u001b[0;34m\u001b[0m\u001b[0m\n\u001b[1;32m     35\u001b[0m \u001b[0;34m\u001b[0m\u001b[0m\n\u001b[0;32m---> 36\u001b[0;31m             \u001b[0mtrain_loss\u001b[0m \u001b[0;34m+=\u001b[0m \u001b[0mloss\u001b[0m\u001b[0;34m.\u001b[0m\u001b[0mitem\u001b[0m\u001b[0;34m(\u001b[0m\u001b[0;34m)\u001b[0m\u001b[0;34m\u001b[0m\u001b[0;34m\u001b[0m\u001b[0m\n\u001b[0m\u001b[1;32m     37\u001b[0m             \u001b[0m_\u001b[0m\u001b[0;34m,\u001b[0m \u001b[0mpredicted\u001b[0m \u001b[0;34m=\u001b[0m \u001b[0moutputs\u001b[0m\u001b[0;34m.\u001b[0m\u001b[0mmax\u001b[0m\u001b[0;34m(\u001b[0m\u001b[0;36m1\u001b[0m\u001b[0;34m)\u001b[0m\u001b[0;34m\u001b[0m\u001b[0;34m\u001b[0m\u001b[0m\n\u001b[1;32m     38\u001b[0m             \u001b[0mtotal\u001b[0m \u001b[0;34m+=\u001b[0m \u001b[0mtargets\u001b[0m\u001b[0;34m.\u001b[0m\u001b[0msize\u001b[0m\u001b[0;34m(\u001b[0m\u001b[0;36m0\u001b[0m\u001b[0;34m)\u001b[0m\u001b[0;34m\u001b[0m\u001b[0;34m\u001b[0m\u001b[0m\n",
      "\u001b[0;31mKeyboardInterrupt\u001b[0m: "
     ]
    }
   ],
   "source": [
    "Average_train_accuracy=0\n",
    "Average_test_accuracy=0\n",
    "\n",
    "for iter in range(5):\n",
    "    epoch_number=50\n",
    "    best_acc = 0  # best test accurac \n",
    "    network = Network(device,\"resnet\", True)\n",
    "    model= network.set_model()\n",
    "    #model.conv1= nn.Conv2d(3, 64, kernel_size=(3, 3), stride=(1, 1), padding=(1, 1), bias=False)\n",
    "    #model.maxpool = nn.Identity()\n",
    "    model.fc=nn.Linear(2048, 10)\n",
    "    model=model.to(device)\n",
    "    criterion = nn.CrossEntropyLoss()\n",
    "    optimizer = optim.SGD(model.parameters(), lr=0.1,\n",
    "                          momentum=0.9)\n",
    "    scheduler = torch.optim.lr_scheduler.CosineAnnealingLR(optimizer, T_max=epoch_number)\n",
    "    \n",
    "    train_test_accuracy_epochs=pd.DataFrame([[0 for i in range(epoch_number)],[0 for i in range(epoch_number)]],columns=[i for i in range(epoch_number)])\n",
    "   \n",
    "    for epoch in range(0, epoch_number):\n",
    "        \n",
    "        #training\n",
    "        print('\\nEpoch: %d' % epoch)\n",
    "        model.train()\n",
    "        train_loss = 0\n",
    "        correct = 0\n",
    "        total = 0\n",
    "        for batch_idx, (inputs, targets) in enumerate(trainloader):\n",
    "            inputs, targets = inputs.to(device), targets.to(device)\n",
    "            optimizer.zero_grad()\n",
    "            outputs = model(inputs)\n",
    "            loss = criterion(outputs, targets)\n",
    "            loss.backward()\n",
    "            optimizer.step()\n",
    "            \n",
    "            train_loss += loss.item()\n",
    "            _, predicted = outputs.max(1)\n",
    "            total += targets.size(0)\n",
    "            correct += predicted.eq(targets).sum().item()\n",
    "            scheduler.step()\n",
    "        \n",
    "#         print(epoch, 'Loss: %.3f | Acc: %.3f%% (%d/%d)'\n",
    "#                          % (train_loss/len(trainloader), 100.*correct/total, correct, total))\n",
    "        #saving epoch train in this iter in a dataframe to plot later.\n",
    "        train_test_accuracy_epochs.iloc[0,epoch]=100.*correct/total\n",
    "        \n",
    "        #testing \n",
    "        model.eval()\n",
    "        test_loss = 0\n",
    "        test_correct = 0\n",
    "        test_total = 0\n",
    "        with torch.no_grad():\n",
    "            for batch_idx, (inputs, targets) in enumerate(testloader):\n",
    "                inputs, targets = inputs.to(device), targets.to(device)\n",
    "                outputs = model(inputs)\n",
    "                loss = criterion(outputs, targets)\n",
    "\n",
    "                test_loss += loss.item()\n",
    "                _, predicted = outputs.max(1)\n",
    "                test_total += targets.size(0)\n",
    "                test_correct += predicted.eq(targets).sum().item()\n",
    "\n",
    "                # print(batch_idx, len(testloader), 'Loss: %.3f | Acc: %.3f%% (%d/%d)'\n",
    "                #              % (test_loss/(batch_idx+1), 100.*correct/total, correct, total))\n",
    "        # print(epoch, 'Loss: %.3f | Acc: %.3f%% (%d/%d)'\n",
    "        #                      % (test_loss/len(testloader), 100.*test_correct/test_total, test_correct, test_total))\n",
    "        \n",
    "        train_test_accuracy_epochs.iloc[1,epoch]=100.*test_correct/test_total\n",
    "        \n",
    "    Average_train_accuracy+=100.*correct/total\n",
    "    Average_test_accuracy+=100.*test_correct/test_total\n",
    "    \n",
    "    print('{}_Average train Accuracy'.format(iter),Average_train_accuracy)\n",
    "    print('{}_Average test Accuracy'.format(iter),Average_test_accuracy)\n",
    "    \n",
    "    torch.save(model.state_dict(), path+'Weights/resnet_CIFAR_dict-iter{}.pth'.format(iter))\n",
    "    train_test_accuracy_epochs.to_csv(path+'Accuracies/resnet_CIFAR_epoch accs-iter{}.csv'.format(iter))\n",
    "    \n",
    "    print(epoch, 'Loss: %.3f | Acc: %.3f%% (%d/%d)'\n",
    "                             % (test_loss/len(testloader), 100.*test_correct/test_total, test_correct, test_total))\n",
    "    \n",
    "    print(epoch, 'Loss: %.3f | Acc: %.3f%% (%d/%d)'\n",
    "                         % (train_loss/len(trainloader), 100.*correct/total, correct, total))\n",
    "    \n",
    "Ave_acc_train_test=pd.DataFrame([[Average_train_accuracy/5,Average_test_accuracy/5]],columns=['Avg_Train','Avg_Test'])\n",
    "Ave_acc_train_test.to_csv(path+'Accuracies/Avg_acc_resnet_CIFAR.csv')\n",
    "    \n",
    "    \n",
    "        "
   ]
  }
 ],
 "metadata": {
  "colab": {
   "authorship_tag": "ABX9TyNRC6e1JxQ7NeA/G4LD3cl3",
   "mount_file_id": "1iYvv2FcNVD4Sw_CAwqFwIsOmtgPlUaTU",
   "provenance": []
  },
  "kernelspec": {
   "display_name": "Python 3 (ipykernel)",
   "language": "python",
   "name": "python3"
  },
  "language_info": {
   "codemirror_mode": {
    "name": "ipython",
    "version": 3
   },
   "file_extension": ".py",
   "mimetype": "text/x-python",
   "name": "python",
   "nbconvert_exporter": "python",
   "pygments_lexer": "ipython3",
   "version": "3.8.10"
  },
  "toc-autonumbering": true,
  "toc-showcode": false,
  "toc-showmarkdowntxt": false,
  "widgets": {
   "application/vnd.jupyter.widget-state+json": {
    "20d8a746db2748ffb03d196dc5524c51": {
     "model_module": "@jupyter-widgets/controls",
     "model_module_version": "1.5.0",
     "model_name": "FloatProgressModel",
     "state": {
      "_dom_classes": [],
      "_model_module": "@jupyter-widgets/controls",
      "_model_module_version": "1.5.0",
      "_model_name": "FloatProgressModel",
      "_view_count": null,
      "_view_module": "@jupyter-widgets/controls",
      "_view_module_version": "1.5.0",
      "_view_name": "ProgressView",
      "bar_style": "success",
      "description": "",
      "description_tooltip": null,
      "layout": "IPY_MODEL_266ebb78641048cebda4b37cc9092d15",
      "max": 170498071,
      "min": 0,
      "orientation": "horizontal",
      "style": "IPY_MODEL_d18029b5da314734a237d00411a6755d",
      "value": 170498071
     }
    },
    "21c5f283104548a8a29f56c0785a85db": {
     "model_module": "@jupyter-widgets/controls",
     "model_module_version": "1.5.0",
     "model_name": "HTMLModel",
     "state": {
      "_dom_classes": [],
      "_model_module": "@jupyter-widgets/controls",
      "_model_module_version": "1.5.0",
      "_model_name": "HTMLModel",
      "_view_count": null,
      "_view_module": "@jupyter-widgets/controls",
      "_view_module_version": "1.5.0",
      "_view_name": "HTMLView",
      "description": "",
      "description_tooltip": null,
      "layout": "IPY_MODEL_b544cd17c21f40dbbdfc65c9a41bb8b4",
      "placeholder": "​",
      "style": "IPY_MODEL_d5f3233531584896854fa6f669d2b41d",
      "value": "100%"
     }
    },
    "266ebb78641048cebda4b37cc9092d15": {
     "model_module": "@jupyter-widgets/base",
     "model_module_version": "1.2.0",
     "model_name": "LayoutModel",
     "state": {
      "_model_module": "@jupyter-widgets/base",
      "_model_module_version": "1.2.0",
      "_model_name": "LayoutModel",
      "_view_count": null,
      "_view_module": "@jupyter-widgets/base",
      "_view_module_version": "1.2.0",
      "_view_name": "LayoutView",
      "align_content": null,
      "align_items": null,
      "align_self": null,
      "border": null,
      "bottom": null,
      "display": null,
      "flex": null,
      "flex_flow": null,
      "grid_area": null,
      "grid_auto_columns": null,
      "grid_auto_flow": null,
      "grid_auto_rows": null,
      "grid_column": null,
      "grid_gap": null,
      "grid_row": null,
      "grid_template_areas": null,
      "grid_template_columns": null,
      "grid_template_rows": null,
      "height": null,
      "justify_content": null,
      "justify_items": null,
      "left": null,
      "margin": null,
      "max_height": null,
      "max_width": null,
      "min_height": null,
      "min_width": null,
      "object_fit": null,
      "object_position": null,
      "order": null,
      "overflow": null,
      "overflow_x": null,
      "overflow_y": null,
      "padding": null,
      "right": null,
      "top": null,
      "visibility": null,
      "width": null
     }
    },
    "679506900d734a01845385bb5112552e": {
     "model_module": "@jupyter-widgets/controls",
     "model_module_version": "1.5.0",
     "model_name": "HTMLModel",
     "state": {
      "_dom_classes": [],
      "_model_module": "@jupyter-widgets/controls",
      "_model_module_version": "1.5.0",
      "_model_name": "HTMLModel",
      "_view_count": null,
      "_view_module": "@jupyter-widgets/controls",
      "_view_module_version": "1.5.0",
      "_view_name": "HTMLView",
      "description": "",
      "description_tooltip": null,
      "layout": "IPY_MODEL_6d9e96c140a8492e81424b843c02e58d",
      "placeholder": "​",
      "style": "IPY_MODEL_cb9912f8fe314f0c892310568e30cdf6",
      "value": " 170498071/170498071 [00:05&lt;00:00, 33135846.41it/s]"
     }
    },
    "6d9e96c140a8492e81424b843c02e58d": {
     "model_module": "@jupyter-widgets/base",
     "model_module_version": "1.2.0",
     "model_name": "LayoutModel",
     "state": {
      "_model_module": "@jupyter-widgets/base",
      "_model_module_version": "1.2.0",
      "_model_name": "LayoutModel",
      "_view_count": null,
      "_view_module": "@jupyter-widgets/base",
      "_view_module_version": "1.2.0",
      "_view_name": "LayoutView",
      "align_content": null,
      "align_items": null,
      "align_self": null,
      "border": null,
      "bottom": null,
      "display": null,
      "flex": null,
      "flex_flow": null,
      "grid_area": null,
      "grid_auto_columns": null,
      "grid_auto_flow": null,
      "grid_auto_rows": null,
      "grid_column": null,
      "grid_gap": null,
      "grid_row": null,
      "grid_template_areas": null,
      "grid_template_columns": null,
      "grid_template_rows": null,
      "height": null,
      "justify_content": null,
      "justify_items": null,
      "left": null,
      "margin": null,
      "max_height": null,
      "max_width": null,
      "min_height": null,
      "min_width": null,
      "object_fit": null,
      "object_position": null,
      "order": null,
      "overflow": null,
      "overflow_x": null,
      "overflow_y": null,
      "padding": null,
      "right": null,
      "top": null,
      "visibility": null,
      "width": null
     }
    },
    "b544cd17c21f40dbbdfc65c9a41bb8b4": {
     "model_module": "@jupyter-widgets/base",
     "model_module_version": "1.2.0",
     "model_name": "LayoutModel",
     "state": {
      "_model_module": "@jupyter-widgets/base",
      "_model_module_version": "1.2.0",
      "_model_name": "LayoutModel",
      "_view_count": null,
      "_view_module": "@jupyter-widgets/base",
      "_view_module_version": "1.2.0",
      "_view_name": "LayoutView",
      "align_content": null,
      "align_items": null,
      "align_self": null,
      "border": null,
      "bottom": null,
      "display": null,
      "flex": null,
      "flex_flow": null,
      "grid_area": null,
      "grid_auto_columns": null,
      "grid_auto_flow": null,
      "grid_auto_rows": null,
      "grid_column": null,
      "grid_gap": null,
      "grid_row": null,
      "grid_template_areas": null,
      "grid_template_columns": null,
      "grid_template_rows": null,
      "height": null,
      "justify_content": null,
      "justify_items": null,
      "left": null,
      "margin": null,
      "max_height": null,
      "max_width": null,
      "min_height": null,
      "min_width": null,
      "object_fit": null,
      "object_position": null,
      "order": null,
      "overflow": null,
      "overflow_x": null,
      "overflow_y": null,
      "padding": null,
      "right": null,
      "top": null,
      "visibility": null,
      "width": null
     }
    },
    "b88443c2d71e4f3792db0e83f4ada20d": {
     "model_module": "@jupyter-widgets/base",
     "model_module_version": "1.2.0",
     "model_name": "LayoutModel",
     "state": {
      "_model_module": "@jupyter-widgets/base",
      "_model_module_version": "1.2.0",
      "_model_name": "LayoutModel",
      "_view_count": null,
      "_view_module": "@jupyter-widgets/base",
      "_view_module_version": "1.2.0",
      "_view_name": "LayoutView",
      "align_content": null,
      "align_items": null,
      "align_self": null,
      "border": null,
      "bottom": null,
      "display": null,
      "flex": null,
      "flex_flow": null,
      "grid_area": null,
      "grid_auto_columns": null,
      "grid_auto_flow": null,
      "grid_auto_rows": null,
      "grid_column": null,
      "grid_gap": null,
      "grid_row": null,
      "grid_template_areas": null,
      "grid_template_columns": null,
      "grid_template_rows": null,
      "height": null,
      "justify_content": null,
      "justify_items": null,
      "left": null,
      "margin": null,
      "max_height": null,
      "max_width": null,
      "min_height": null,
      "min_width": null,
      "object_fit": null,
      "object_position": null,
      "order": null,
      "overflow": null,
      "overflow_x": null,
      "overflow_y": null,
      "padding": null,
      "right": null,
      "top": null,
      "visibility": null,
      "width": null
     }
    },
    "cb9912f8fe314f0c892310568e30cdf6": {
     "model_module": "@jupyter-widgets/controls",
     "model_module_version": "1.5.0",
     "model_name": "DescriptionStyleModel",
     "state": {
      "_model_module": "@jupyter-widgets/controls",
      "_model_module_version": "1.5.0",
      "_model_name": "DescriptionStyleModel",
      "_view_count": null,
      "_view_module": "@jupyter-widgets/base",
      "_view_module_version": "1.2.0",
      "_view_name": "StyleView",
      "description_width": ""
     }
    },
    "cc939ecebe134ba8b3a32454c2ed1e83": {
     "model_module": "@jupyter-widgets/controls",
     "model_module_version": "1.5.0",
     "model_name": "HBoxModel",
     "state": {
      "_dom_classes": [],
      "_model_module": "@jupyter-widgets/controls",
      "_model_module_version": "1.5.0",
      "_model_name": "HBoxModel",
      "_view_count": null,
      "_view_module": "@jupyter-widgets/controls",
      "_view_module_version": "1.5.0",
      "_view_name": "HBoxView",
      "box_style": "",
      "children": [
       "IPY_MODEL_21c5f283104548a8a29f56c0785a85db",
       "IPY_MODEL_20d8a746db2748ffb03d196dc5524c51",
       "IPY_MODEL_679506900d734a01845385bb5112552e"
      ],
      "layout": "IPY_MODEL_b88443c2d71e4f3792db0e83f4ada20d"
     }
    },
    "d18029b5da314734a237d00411a6755d": {
     "model_module": "@jupyter-widgets/controls",
     "model_module_version": "1.5.0",
     "model_name": "ProgressStyleModel",
     "state": {
      "_model_module": "@jupyter-widgets/controls",
      "_model_module_version": "1.5.0",
      "_model_name": "ProgressStyleModel",
      "_view_count": null,
      "_view_module": "@jupyter-widgets/base",
      "_view_module_version": "1.2.0",
      "_view_name": "StyleView",
      "bar_color": null,
      "description_width": ""
     }
    },
    "d5f3233531584896854fa6f669d2b41d": {
     "model_module": "@jupyter-widgets/controls",
     "model_module_version": "1.5.0",
     "model_name": "DescriptionStyleModel",
     "state": {
      "_model_module": "@jupyter-widgets/controls",
      "_model_module_version": "1.5.0",
      "_model_name": "DescriptionStyleModel",
      "_view_count": null,
      "_view_module": "@jupyter-widgets/base",
      "_view_module_version": "1.2.0",
      "_view_name": "StyleView",
      "description_width": ""
     }
    }
   }
  }
 },
 "nbformat": 4,
 "nbformat_minor": 4
}
